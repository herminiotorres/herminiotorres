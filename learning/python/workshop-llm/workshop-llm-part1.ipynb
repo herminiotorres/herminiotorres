{
 "cells": [
  {
   "cell_type": "code",
   "execution_count": 1,
   "id": "0935bb92-12fa-4a48-8949-b20a833e8ee7",
   "metadata": {},
   "outputs": [],
   "source": [
    "name  = 'herminio'"
   ]
  },
  {
   "cell_type": "code",
   "execution_count": 2,
   "id": "aa654c84-d0e1-434b-ade6-687b4af71d2f",
   "metadata": {},
   "outputs": [
    {
     "data": {
      "text/plain": [
       "'herminio'"
      ]
     },
     "execution_count": 2,
     "metadata": {},
     "output_type": "execute_result"
    }
   ],
   "source": [
    "name"
   ]
  }
 ],
 "metadata": {
  "kernelspec": {
   "display_name": "Python 3 (ipykernel)",
   "language": "python",
   "name": "python3"
  },
  "language_info": {
   "codemirror_mode": {
    "name": "ipython",
    "version": 3
   },
   "file_extension": ".py",
   "mimetype": "text/x-python",
   "name": "python",
   "nbconvert_exporter": "python",
   "pygments_lexer": "ipython3",
   "version": "3.11.5"
  }
 },
 "nbformat": 4,
 "nbformat_minor": 5
}
